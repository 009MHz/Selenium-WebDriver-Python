{
 "cells": [
  {
   "attachments": {},
   "cell_type": "markdown",
   "metadata": {},
   "source": [
    "# Test Exception"
   ]
  },
  {
   "attachments": {},
   "cell_type": "markdown",
   "metadata": {},
   "source": [
    "## Definition"
   ]
  },
  {
   "attachments": {},
   "cell_type": "markdown",
   "metadata": {},
   "source": [
    "An Exception is an event, which occurs during the execution of a program that disrupts the normal flow of the program’s instructions or in simple words, any issue which makes your test case stop in between the execution.\n",
    "\n",
    "source: [click me](https://www.linkedin.com/pulse/11-most-common-exceptions-selenium-webdriver-logic-qa/)\n",
    "\n",
    "When Selenium is used to run tests, exceptions can occur if there is a problem with the test script, the browser, or the application being tested.\n",
    "\n",
    "Some examples of Selenium test exceptions include:\n",
    "\n",
    "- `NoSuchElementException` <br>\n",
    "raised when the script tries to interact with an element on the page that does not exist.\n",
    "- `TimeoutException` <br>\n",
    "raised when a command takes longer than the specified amount of time to complete.\n",
    "- `NoSuchWindowException` <br> \n",
    "raised when the script tries to switch to a window that does not exist.\n",
    "- `StaleElementReferenceException` <br>\n",
    "raised when the script tries to interact with an element that is no longer attached to the DOM.\n",
    "\n",
    "These are just a few examples and there are many more exception types that Selenium may raise, depending on the situation. It is important to handle these exceptions properly in order to avoid the script to stop working and to get a clear understanding of what went wrong."
   ]
  },
  {
   "cell_type": "markdown",
   "metadata": {},
   "source": []
  },
  {
   "attachments": {},
   "cell_type": "markdown",
   "metadata": {},
   "source": [
    "# Adding Test Exception"
   ]
  },
  {
   "attachments": {},
   "cell_type": "markdown",
   "metadata": {},
   "source": [
    "Page to test: https://practicetestautomation.com/practice-test-exceptions/"
   ]
  },
  {
   "attachments": {},
   "cell_type": "markdown",
   "metadata": {},
   "source": [
    "## Test case 1: NoSuchElementException"
   ]
  },
  {
   "attachments": {},
   "cell_type": "markdown",
   "metadata": {},
   "source": [
    "1. Open page\n",
    "2. Click Add button\n",
    "3. Verify Row 2 input field is displayed\n",
    "\n",
    "Row 2 doesn’t appear immediately. This test will fail with org.openqa.selenium.NoSuchElementException without proper wait"
   ]
  },
  {
   "cell_type": "markdown",
   "metadata": {},
   "source": []
  }
 ],
 "metadata": {
  "kernelspec": {
   "display_name": "python-selenium-venv",
   "language": "python",
   "name": "python3"
  },
  "language_info": {
   "name": "python",
   "version": "3.10.9 (tags/v3.10.9:1dd9be6, Dec  6 2022, 20:01:21) [MSC v.1934 64 bit (AMD64)]"
  },
  "orig_nbformat": 4,
  "vscode": {
   "interpreter": {
    "hash": "e4a6a40ad7e6db3b09b5ba708de086d97b965e74d527dde469cc86ca5f27edfe"
   }
  }
 },
 "nbformat": 4,
 "nbformat_minor": 2
}
