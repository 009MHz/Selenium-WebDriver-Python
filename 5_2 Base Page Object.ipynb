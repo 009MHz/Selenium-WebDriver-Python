{
 "cells": [
  {
   "attachments": {},
   "cell_type": "markdown",
   "metadata": {},
   "source": [
    "# Definition"
   ]
  },
  {
   "attachments": {},
   "cell_type": "markdown",
   "metadata": {},
   "source": [
    "In Selenium with Python, the Base Page Object is a common design pattern that is used to organize and structure the code of a web application's page objects. It serves as a blueprint for other page objects in the application and contains common functionality that is shared across multiple pages.\n",
    "\n",
    "The Base Page Object typically contains methods that handle the basic interactions with a web page, such as opening the page, navigating to different pages, and interacting with common elements like headers and footers. It also contains variables that store the locators of the web elements that are commonly used across multiple pages."
   ]
  },
  {
   "attachments": {},
   "cell_type": "markdown",
   "metadata": {},
   "source": [
    "# Why it should be created?"
   ]
  },
  {
   "attachments": {},
   "cell_type": "markdown",
   "metadata": {},
   "source": [
    "The idea behind the Base Page Object is to centralize the logic of interacting with the web page, making the code more readable, maintainable, and reusable. By having a single location where the common functionality is defined, it's easier to update and maintain the code when changes are needed.\n",
    "\n",
    "For example, a Base Page Object might have a method to open a page, like this:"
   ]
  },
  {
   "cell_type": "code",
   "execution_count": null,
   "metadata": {},
   "outputs": [],
   "source": [
    "class BasePage:\n",
    "    def __init__(self, driver):\n",
    "        self._driver = driver\n",
    "\n",
    "    def open_page(self, url):\n",
    "        self._driver.get(url)\n"
   ]
  },
  {
   "attachments": {},
   "cell_type": "markdown",
   "metadata": {},
   "source": [
    "This method can be reused by other page objects to open a specific page, by passing the URL of the page.\n",
    "\n",
    "Another example, you can have a method to check if an element is present on the page:"
   ]
  },
  {
   "cell_type": "code",
   "execution_count": null,
   "metadata": {},
   "outputs": [],
   "source": [
    "class BasePage:\n",
    "    def __init__(self, driver):\n",
    "        self._driver = driver\n",
    "\n",
    "    def is_element_present(self, locator):\n",
    "        try:\n",
    "            self._driver.find_element(locator)\n",
    "            return True\n",
    "        except NoSuchElementException:\n",
    "            return False\n"
   ]
  },
  {
   "attachments": {},
   "cell_type": "markdown",
   "metadata": {},
   "source": [
    "This method can be used by other page objects to check if a specific element is present on the page, by passing the locator of the element.\n",
    "\n",
    "By using a Base Page Object in this way, you can reduce the amount of duplicate code and make your tests more maintainable and reusable."
   ]
  },
  {
   "attachments": {},
   "cell_type": "markdown",
   "metadata": {},
   "source": [
    "# Applying Base Page Object on the current project"
   ]
  },
  {
   "attachments": {},
   "cell_type": "markdown",
   "metadata": {},
   "source": [
    "In this case, we will creating a Base Page Object to add the function for each step from the Login Test Prcesses"
   ]
  },
  {
   "cell_type": "code",
   "execution_count": null,
   "metadata": {},
   "outputs": [],
   "source": [
    "from selenium.common import NoSuchElementException\n",
    "from selenium.webdriver.remote.webdriver import WebDriver\n",
    "from selenium.webdriver.remote.webelement import WebElement\n",
    "from selenium.webdriver.support import expected_conditions as ec\n",
    "from selenium.webdriver.support.wait import WebDriverWait\n",
    "\n",
    "\n",
    "class BasePage:\n",
    "    def __init__(self, driver: WebDriver):\n",
    "        self._driver = driver\n",
    "\n",
    "    def _find(self, locator: tuple) -> WebElement:\n",
    "        self._driver.find_element(*locator)\n",
    "\n",
    "    def _type(self, locator: tuple, text: str, time: int = 10):\n",
    "        self._waiting_visibility(locator, time)\n",
    "        self._find(locator).send_keys(text)\n",
    "\n",
    "    def _waiting_visibility(self, locator: tuple, time: int = 10):\n",
    "        wait = WebDriverWait(self._driver, time)\n",
    "        wait.until(ec.visibility_of_element_located(locator))\n",
    "\n",
    "    def _click(self, locator: tuple, time: int = 10):\n",
    "        self._waiting_visibility(locator, time)\n",
    "        self._find(locator).click()\n",
    "\n",
    "    @property\n",
    "    def get_url(self) -> str:\n",
    "        \"\"\"Obtaining the current URL Value\"\"\"\n",
    "        return self._driver.current_url\n",
    "\n",
    "    def display_checker(self, locator: tuple) -> bool:\n",
    "        try:\n",
    "            return self._find(locator).is_displayed()\n",
    "        except NoSuchElementException:\n",
    "            return False\n"
   ]
  },
  {
   "attachments": {},
   "cell_type": "markdown",
   "metadata": {},
   "source": [
    "# Scripts Breakdown"
   ]
  },
  {
   "attachments": {},
   "cell_type": "markdown",
   "metadata": {},
   "source": [
    "### Class Initializing"
   ]
  },
  {
   "cell_type": "code",
   "execution_count": null,
   "metadata": {},
   "outputs": [],
   "source": [
    "from selenium.webdriver.remote.webdriver import WebDriver\n",
    "\n",
    "class BasePage:\n",
    "    def __init__(self, driver: WebDriver):\n",
    "        self._driver = driver"
   ]
  },
  {
   "attachments": {},
   "cell_type": "markdown",
   "metadata": {},
   "source": [
    "This script defines a \"BasePage\" class that serves as a base class for other page objects in a web application. The class contains a constructor which initializes an instance of the class by taking a \"driver\" argument of type \"WebDriver\" and assigns it to the protected variable \"_driver\".\n",
    "\n",
    "The \"WebDriver\" class is a part of the Selenium library, it is used to interact with the web browser. In this script, the \"driver\" argument is passed to the constructor of the BasePage class. The \"driver\" argument is an instance of the \"WebDriver\" class and it is used to interact with the web browser through Selenium.\n",
    "\n",
    "The main purpose of this script is to set up a base class that can be inherited by other page objects. The BasePage class contains the basic functionality that is shared across all the pages, such as the driver object. This way, the driver can be passed to the BasePage object once, and it can be reused across the other page objects that inherit from it.\n",
    "\n",
    "This class can be used as a blueprint for other page objects in the application, by inheriting from the BasePage class, other page objects can use the functionality provided by this class without having to redefine it.\n",
    "\n",
    "In summary, this script creates a BasePage class which has a constructor that takes a driver as an argument and assigns it to the protected variable \"_driver\" which is used to interact with the web page. This class can be inherited by other page objects in the application and its functionality can be reused."
   ]
  },
  {
   "attachments": {},
   "cell_type": "markdown",
   "metadata": {},
   "source": [
    "### `_find` Method Variable"
   ]
  },
  {
   "cell_type": "code",
   "execution_count": null,
   "metadata": {},
   "outputs": [],
   "source": [
    "def _find(self, locator: tuple) -> WebElement:\n",
    "    self._driver.find_element(*locator)"
   ]
  },
  {
   "attachments": {},
   "cell_type": "markdown",
   "metadata": {},
   "source": [
    "`\"_find(locator: tuple) -> WebElement\"` which is used to find an element on the web page by passing a tuple of the element locator. The method uses the `\"find_element()\"` method provided by the `WebDriver` class which takes a *tuple* of the element locator and returns a `WebElement` object representing the element.\n",
    "\n",
    "The `\"*\"` operator before the locator tuple is used to *unpack the values of the tuple* and pass them as **separate arguments** to the `find_element` method.\n",
    "\n",
    "The returned object can then be used to interact with the element, such as clicking on a button, entering text into a text field, etc.\n",
    "\n",
    "In summary, this script creates a BasePage class which has a constructor that takes a driver as an argument and assigns it to the protected variable \"_driver\" which is used to interact with the web page. The class has a method \"_find(locator: tuple) -> WebElement\" which is used to find an element on the web page by"
   ]
  },
  {
   "attachments": {},
   "cell_type": "markdown",
   "metadata": {},
   "source": [
    "### `_type` method"
   ]
  },
  {
   "cell_type": "code",
   "execution_count": null,
   "metadata": {},
   "outputs": [],
   "source": [
    "def _type(self, locator: tuple, text: str, time: int = 10):\n",
    "    self._waiting_visibility(locator, time)\n",
    "    self._find(locator).send_keys(text)"
   ]
  },
  {
   "attachments": {},
   "cell_type": "markdown",
   "metadata": {},
   "source": [
    "This script defines a method `\"_type()\"` which is used to type text into an element on a web page. The method is a part of a \"BasePage\" class that serves as a base class for other page objects in a web application.\n",
    "\n",
    "The method takes three arguments:\n",
    "\n",
    "- `\"locator\"` which is a tuple containing the element locator\n",
    "- `\"text\"` which is the text that is to be typed into the element\n",
    "- `\"time\"` which is an optional integer argument representing the number of seconds to wait for the element to be visible. The default value is 10 seconds.\n",
    "\n",
    "The method first calls another method `\"_waiting_visibility(locator, time)\"` which waits for the element to be visible on the page by passing the locator and time as arguments. The method is responsible for waiting for the element to be visible before interacting with it.\n",
    "\n",
    "Then, it calls another method `\"_find(locator)\"` which finds the element by passing the locator as an argument.\n",
    "\n",
    "Finally, it uses the `\"send_keys()\"` method to type the text into the element."
   ]
  },
  {
   "attachments": {},
   "cell_type": "markdown",
   "metadata": {},
   "source": [
    "### `_waiting` method"
   ]
  },
  {
   "cell_type": "code",
   "execution_count": null,
   "metadata": {},
   "outputs": [],
   "source": [
    "def _waiting_visibility(self, locator: tuple, time: int = 10):\n",
    "    wait = WebDriverWait(self._driver, time)\n",
    "    wait.until(ec.visibility_of_element_located(locator))"
   ]
  },
  {
   "attachments": {},
   "cell_type": "markdown",
   "metadata": {},
   "source": [
    "The class has one method `\"_waiting_visibility(locator: tuple, time: int = 10)\"` which is used to wait for an element to be visible on the web page. The method takes two arguments:\n",
    "\n",
    "- `\"locator\"` which is a tuple containing the element locator\n",
    "- `\"time\"` which is an optional integer argument representing the number of seconds to wait for the element to be visible. The default value is 10 seconds.\n",
    "\n",
    "The method creates an instance of `\"WebDriverWait\"` class which takes the driver and time as arguments. The `\"until()\"` method of the `WebDriverWait` class is used to wait for the element to be visible on the web page by passing the locator tuple to the `\"ec.visibility_of_element_located()\"` method."
   ]
  },
  {
   "attachments": {},
   "cell_type": "markdown",
   "metadata": {},
   "source": [
    "### `_click` method"
   ]
  },
  {
   "cell_type": "code",
   "execution_count": null,
   "metadata": {},
   "outputs": [],
   "source": [
    "def _click(self, locator: tuple, time: int = 10):\n",
    "    self._waiting_visibility(locator, time)\n",
    "    self._find(locator).click()"
   ]
  },
  {
   "attachments": {},
   "cell_type": "markdown",
   "metadata": {},
   "source": [
    "This script defines a method `\"_click()\"` which is used to perform a click action on an element on a web page. The method is a part of a \"BasePage\" class that serves as a base class for other page objects in a web application.\n",
    "\n",
    "The method takes two arguments:\n",
    "\n",
    "- `\"locator\"` which is a tuple containing the element locator\n",
    "- `\"time\"` which is an optional integer argument representing the number of seconds to wait for the element to be visible. The default value is 10 seconds.\n",
    "\n",
    "The method first calls another method `\"_waiting_visibility(locator, time)\"` which waits for the element to be visible on the page by passing the locator and time as arguments. The method is responsible for waiting for the element to be visible before interacting with it.\n",
    "\n",
    "Then, it calls another method `\"_find(locator)\"` which finds the element by passing the locator as an argument.\n",
    "\n",
    "Finally, it uses the `\"click()\"` method to perform a click action on the element.\n",
    "\n",
    "\n",
    "\n"
   ]
  },
  {
   "attachments": {},
   "cell_type": "markdown",
   "metadata": {},
   "source": [
    "### `display_checker`"
   ]
  },
  {
   "cell_type": "code",
   "execution_count": null,
   "metadata": {},
   "outputs": [],
   "source": [
    "def display_checker(self, locator: tuple) -> bool:\n",
    "    try:\n",
    "        return self._find(locator).is_displayed()\n",
    "    except NoSuchElementException:\n",
    "        return False"
   ]
  },
  {
   "attachments": {},
   "cell_type": "markdown",
   "metadata": {},
   "source": [
    "This script defines a method `\"display_checker()\"` which is used to check if an element is displayed on the web page. The method is a part of a `\"BasePage\"` class that serves as a base class for other page objects in a web application.\n",
    "\n",
    "The method takes one argument:\n",
    "- `\"locator\"` which is a tuple containing the element locator\n",
    "The method first calls another method `\"_find(locator)\"` which finds the element by passing the locator as an argument.\n",
    "\n",
    "Then, it uses the `\"is_displayed()\"` method to check if the element is displayed on the web page.\n",
    "\n",
    "The method is wrapped in a `\"try-except\"` block to handle the case where the element is not found on the page. If the element is not found, a `\"NoSuchElementException\"` is raised and the function returns False. If the element is found, the function returns the output of the `\"is_displayed()\"` method, which is a `boolean` value indicating whether the element is displayed or not.\n",
    "\n"
   ]
  },
  {
   "cell_type": "markdown",
   "metadata": {},
   "source": []
  }
 ],
 "metadata": {
  "language_info": {
   "name": "python"
  },
  "orig_nbformat": 4
 },
 "nbformat": 4,
 "nbformat_minor": 2
}
