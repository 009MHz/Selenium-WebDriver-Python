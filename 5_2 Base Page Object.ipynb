{
 "cells": [
  {
   "cell_type": "code",
   "execution_count": null,
   "metadata": {},
   "outputs": [],
   "source": []
  },
  {
   "attachments": {},
   "cell_type": "markdown",
   "metadata": {},
   "source": [
    "# Definition"
   ]
  },
  {
   "attachments": {},
   "cell_type": "markdown",
   "metadata": {},
   "source": [
    "In Selenium with Python, the Base Page Object is a common design pattern that is used to organize and structure the code of a web application's page objects. It serves as a blueprint for other page objects in the application and contains common functionality that is shared across multiple pages.\n",
    "\n",
    "The Base Page Object typically contains methods that handle the basic interactions with a web page, such as opening the page, navigating to different pages, and interacting with common elements like headers and footers. It also contains variables that store the locators of the web elements that are commonly used across multiple pages."
   ]
  },
  {
   "attachments": {},
   "cell_type": "markdown",
   "metadata": {},
   "source": [
    "# Why it should be created?"
   ]
  },
  {
   "attachments": {},
   "cell_type": "markdown",
   "metadata": {},
   "source": [
    "The idea behind the Base Page Object is to centralize the logic of interacting with the web page, making the code more readable, maintainable, and reusable. By having a single location where the common functionality is defined, it's easier to update and maintain the code when changes are needed.\n",
    "\n",
    "For example, a Base Page Object might have a method to open a page, like this:"
   ]
  },
  {
   "cell_type": "code",
   "execution_count": null,
   "metadata": {},
   "outputs": [],
   "source": [
    "class BasePage:\n",
    "    def __init__(self, driver):\n",
    "        self._driver = driver\n",
    "\n",
    "    def open_page(self, url):\n",
    "        self._driver.get(url)\n"
   ]
  },
  {
   "attachments": {},
   "cell_type": "markdown",
   "metadata": {},
   "source": [
    "This method can be reused by other page objects to open a specific page, by passing the URL of the page.\n",
    "\n",
    "Another example, you can have a method to check if an element is present on the page:"
   ]
  },
  {
   "cell_type": "code",
   "execution_count": null,
   "metadata": {},
   "outputs": [],
   "source": [
    "class BasePage:\n",
    "    def __init__(self, driver):\n",
    "        self._driver = driver\n",
    "\n",
    "    def is_element_present(self, locator):\n",
    "        try:\n",
    "            self._driver.find_element(locator)\n",
    "            return True\n",
    "        except NoSuchElementException:\n",
    "            return False\n"
   ]
  },
  {
   "attachments": {},
   "cell_type": "markdown",
   "metadata": {},
   "source": [
    "This method can be used by other page objects to check if a specific element is present on the page, by passing the locator of the element.\n",
    "\n",
    "By using a Base Page Object in this way, you can reduce the amount of duplicate code and make your tests more maintainable and reusable."
   ]
  },
  {
   "attachments": {},
   "cell_type": "markdown",
   "metadata": {},
   "source": [
    "# Applying "
   ]
  },
  {
   "cell_type": "markdown",
   "metadata": {},
   "source": []
  }
 ],
 "metadata": {
  "language_info": {
   "name": "python"
  },
  "orig_nbformat": 4
 },
 "nbformat": 4,
 "nbformat_minor": 2
}
