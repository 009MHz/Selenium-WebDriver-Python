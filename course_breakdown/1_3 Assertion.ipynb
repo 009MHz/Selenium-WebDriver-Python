{
 "cells": [
  {
   "attachments": {},
   "cell_type": "markdown",
   "metadata": {
    "pycharm": {
     "name": "#%% md\n"
    }
   },
   "source": [
    "# Assertion to Validate the elements\n",
    "The `\"assert\"` function in Python is a debugging tool that allows you to check the validity of a certain condition in your code. If the condition is True, the program continues to execute. If the condition is False, the program raises an `'AssertionError'` exception with an optional error message"
   ]
  },
  {
   "attachments": {},
   "cell_type": "markdown",
   "metadata": {
    "pycharm": {
     "name": "#%% md\n"
    }
   },
   "source": [
    "## Automation Step Breakdown"
   ]
  },
  {
   "attachments": {},
   "cell_type": "markdown",
   "metadata": {
    "pycharm": {
     "name": "#%% md\n"
    }
   },
   "source": [
    "### 0. Importing the modules"
   ]
  },
  {
   "cell_type": "raw",
   "metadata": {
    "pycharm": {
     "name": "#%% raw\n"
    }
   },
   "source": [
    "from selenium import webdriver\n",
    "from selenium.webdriver.chrome.service import Service as ChromeService\n",
    "from selenium.webdriver.common.by import By\n",
    "from webdriver_manager.chrome import ChromeDriverManager"
   ]
  },
  {
   "attachments": {},
   "cell_type": "markdown",
   "metadata": {
    "pycharm": {
     "name": "#%% md\n"
    }
   },
   "source": [
    "### 1. Open the page"
   ]
  },
  {
   "cell_type": "raw",
   "metadata": {
    "pycharm": {
     "name": "#%% raw\n"
    }
   },
   "source": [
    "driver.get(\"https://practicetestautomation.com/practice-test-login/\")\n",
    "time.sleep(5)"
   ]
  },
  {
   "attachments": {},
   "cell_type": "markdown",
   "metadata": {
    "pycharm": {
     "name": "#%% md\n"
    }
   },
   "source": [
    "### 2. Type username ***student*** into Username field"
   ]
  },
  {
   "attachments": {},
   "cell_type": "raw",
   "metadata": {
    "pycharm": {
     "name": "#%% raw\n"
    }
   },
   "source": [
    "# Locate the Username Elements\n",
    "username_locator = driver.find_element(By.ID, \"username\")"
   ]
  },
  {
   "attachments": {},
   "cell_type": "raw",
   "metadata": {
    "pycharm": {
     "name": "#%% raw\n"
    }
   },
   "source": [
    "# Type the \"student\" into the fields\n",
    "username_locator.send_keys(\"student\")"
   ]
  },
  {
   "attachments": {},
   "cell_type": "markdown",
   "metadata": {
    "pycharm": {
     "name": "#%% md\n"
    }
   },
   "source": [
    "### 3. Type password Password123 into Password field"
   ]
  },
  {
   "cell_type": "raw",
   "metadata": {
    "pycharm": {
     "name": "#%% raw\n"
    }
   },
   "source": [
    "# Find the Password Elements\n",
    "password_locator = driver.find_element(By.NAME, \"password\")"
   ]
  },
  {
   "cell_type": "raw",
   "metadata": {
    "pycharm": {
     "name": "#%% raw\n"
    }
   },
   "source": [
    "# Type the Password123 into the field\n",
    "password_locator.send_keys(\"Password123\")"
   ]
  },
  {
   "attachments": {},
   "cell_type": "markdown",
   "metadata": {
    "pycharm": {
     "name": "#%% md\n"
    }
   },
   "source": [
    "### 4. Hit the **Submit** button"
   ]
  },
  {
   "cell_type": "raw",
   "metadata": {
    "pycharm": {
     "name": "#%% raw\n"
    }
   },
   "source": [
    "submit_locator.click()\n",
    "time.sleep(3)"
   ]
  },
  {
   "attachments": {},
   "cell_type": "markdown",
   "metadata": {
    "pycharm": {
     "name": "#%% md\n"
    }
   },
   "source": [
    "### 5. User is directed to [success login](practicetestautomation.com/logged-in-successfully/) page"
   ]
  },
  {
   "attachments": {},
   "cell_type": "raw",
   "metadata": {
    "pycharm": {
     "name": "#%% raw\n"
    }
   },
   "source": [
    "# Return the page as variable\n",
    "actual_URL = driver.current_url\n"
   ]
  },
  {
   "cell_type": "raw",
   "metadata": {
    "pycharm": {
     "name": "#%% raw\n"
    }
   },
   "source": [
    "# Validate the actual output vs expected output\n",
    "assert actual_URL == \"https://practicetestautomation.com/logged-in-successfully/\""
   ]
  },
  {
   "attachments": {},
   "cell_type": "markdown",
   "metadata": {
    "pycharm": {
     "name": "#%% md\n"
    }
   },
   "source": [
    "`assert actual_URL == \"https://practicetestautomation.com/logged-in-successfully/\"`\n",
    "\n",
    "Check if the **login** operation was successful by verifying that the URL of the web page indicates a successful login. \n",
    "\n",
    "If the URL is not as expected, the script raises an `\"AssertionError\"` to indicate that something went wrong"
   ]
  },
  {
   "attachments": {},
   "cell_type": "markdown",
   "metadata": {
    "pycharm": {
     "name": "#%% md\n"
    }
   },
   "source": [
    "### 6. New page is contains expected elements"
   ]
  },
  {
   "attachments": {},
   "cell_type": "markdown",
   "metadata": {
    "pycharm": {
     "name": "#%% md\n"
    }
   },
   "source": [
    "- **Logged In Successfully** title is displayed\n"
   ]
  },
  {
   "cell_type": "raw",
   "metadata": {
    "pycharm": {
     "name": "#%% raw\n"
    }
   },
   "source": [
    "# Locate the Title elements\n",
    "success_header_loc = driver.find_element(By.TAG_NAME, \"h1\")\n",
    "\n",
    "# Obtaining the element text\n",
    "actual_header = success_header_loc.text"
   ]
  },
  {
   "cell_type": "raw",
   "metadata": {
    "pycharm": {
     "name": "#%% raw\n"
    }
   },
   "source": [
    "# Validate the actual output vs expected output\n",
    "assert actual_header == \"Logged In Successfully\""
   ]
  },
  {
   "attachments": {},
   "cell_type": "markdown",
   "metadata": {
    "pycharm": {
     "name": "#%% md\n"
    }
   },
   "source": [
    "`assert actual_header == \"Logged In Successfully\"`\n",
    "\n",
    "Check if a login operation was successful by verifying that the ***text of an element*** on the web page indicates a *successful login*. If the text is not as expected, the script raises an \"`AssertionError`\" to indicate that something went wrong."
   ]
  },
  {
   "attachments": {},
   "cell_type": "markdown",
   "metadata": {
    "pycharm": {
     "name": "#%% md\n"
    }
   },
   "source": [
    "- New page contains expected text (*'Congratulations' or 'successfully logged in'*)"
   ]
  },
  {
   "cell_type": "raw",
   "metadata": {
    "pycharm": {
     "name": "#%% raw\n"
    }
   },
   "source": [
    "# Locate the sub header elements\n",
    "success_subhead_loc = driver.find_element(By.TAG_NAME, \"//strong\")\n",
    "\n",
    "# Validate the elements is following the scenario\n",
    "actual_subhead = success_subhead_loc.text"
   ]
  },
  {
   "cell_type": "raw",
   "metadata": {
    "pycharm": {
     "name": "#%% raw\n"
    }
   },
   "source": [
    "# Validate the actual output vs expected output\n",
    "assert actual_subhead == \"Congratulations student. You successfully logged in!\""
   ]
  },
  {
   "attachments": {},
   "cell_type": "markdown",
   "metadata": {
    "pycharm": {
     "name": "#%% md\n"
    }
   },
   "source": [
    "### 7. ***Log out*** CTA is displayed on the new page"
   ]
  },
  {
   "attachments": {},
   "cell_type": "raw",
   "metadata": {
    "pycharm": {
     "name": "#%% raw\n"
    }
   },
   "source": [
    "# Locate the Log Out elements\n",
    "logout_link = driver.find_element(By.LINK_TEXT, 'Log out')"
   ]
  },
  {
   "cell_type": "raw",
   "metadata": {
    "pycharm": {
     "name": "#%% raw\n"
    }
   },
   "source": [
    "# Validate the CTA Availability\n",
    "assert logout_link.is_displayed()"
   ]
  },
  {
   "attachments": {},
   "cell_type": "markdown",
   "metadata": {
    "pycharm": {
     "name": "#%% md\n"
    }
   },
   "source": [
    "`assert logout_link.is_displayed()`\n",
    "\n",
    "- Checks if the \"`logout_link`\" element is displayed on the web page. \n",
    "- The `is_displayed()` method returns a Boolean value indicating whether the element is currently visible to the user.\n",
    "    - If the element is displayed, the condition is `True` and the program continues to execute. \n",
    "    - If the element is not displayed, the condition is `False` and the program raises an \"`AssertionError`\" exception"
   ]
  }
 ],
 "metadata": {
  "kernelspec": {
   "display_name": "python-selenium-venv",
   "language": "python",
   "name": "python3"
  },
  "language_info": {
   "name": "python",
   "version": "3.10.9 (tags/v3.10.9:1dd9be6, Dec  6 2022, 20:01:21) [MSC v.1934 64 bit (AMD64)]"
  },
  "orig_nbformat": 4,
  "vscode": {
   "interpreter": {
    "hash": "e4a6a40ad7e6db3b09b5ba708de086d97b965e74d527dde469cc86ca5f27edfe"
   }
  }
 },
 "nbformat": 4,
 "nbformat_minor": 2
}