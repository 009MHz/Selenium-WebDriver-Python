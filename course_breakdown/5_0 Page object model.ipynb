{
 "cells": [
  {
   "attachments": {},
   "cell_type": "markdown",
   "metadata": {},
   "source": [
    "# Definition"
   ]
  },
  {
   "attachments": {},
   "cell_type": "markdown",
   "metadata": {},
   "source": [
    "The ***Page Object Model (POM)*** is a design pattern in Selenium that creates an object-oriented representation of a web page. The idea behind POM is to separate the test code from the web page's structure, making the tests ***more readable, maintainable, and reusable***. In POM, the web page's elements and interactions are represented as *methods* and *properties* of a `class`, and the test code interacts with these methods and properties instead of interacting directly with the web page. This makes it easier to update the tests when the web page's structure changes, as the changes only need to be made in one place (the POM class) instead of in multiple test files."
   ]
  },
  {
   "attachments": {},
   "cell_type": "markdown",
   "metadata": {},
   "source": [
    "# Pros and Cons"
   ]
  },
  {
   "attachments": {},
   "cell_type": "markdown",
   "metadata": {},
   "source": [
    "Pros of using Page Object Model (POM) in Selenium with Python:\n",
    "1. Code Reusability: POM allows you to reuse the code for different tests, making the tests more maintainable and less prone to errors.\n",
    "2. Increased Readability: POM makes the tests more readable by separating the test code from the web page's structure. This makes it easier for others to understand and maintain the code.\n",
    "3. Easy Maintenance: POM makes it easy to maintain the tests when the web page's structure changes, as the changes only need to be made in one place (the POM class) instead of in multiple test files.\n",
    "4. Object-oriented: POM is an object-oriented design pattern, which makes it easier to understand and work with the code.\n",
    "\n"
   ]
  },
  {
   "attachments": {},
   "cell_type": "markdown",
   "metadata": {},
   "source": [
    "Cons of using Page Object Model (POM) in Selenium with Python:\n",
    "1. Over-engineering: POM can be over-engineered, leading to a lot of unnecessary code and complexity.\n",
    "2. Test code is tightly coupled with the page object: if there are many changes in the page, it will affect the test script as well.\n",
    "3. Increased time and effort: POM takes more time and effort to set up and maintain compared to other design patterns.\n",
    "4. More classes and methods to maintain: With POM, you need to maintain multiple classes and methods, which can be time-consuming."
   ]
  },
  {
   "attachments": {},
   "cell_type": "markdown",
   "metadata": {},
   "source": [
    "# Example of how you might implement POM in Python Selenium"
   ]
  },
  {
   "cell_type": "code",
   "execution_count": null,
   "metadata": {},
   "outputs": [],
   "source": [
    "class LoginPage:\n",
    "    def __init__(self, driver):\n",
    "        self.driver = driver\n",
    "        self.username_textbox_id = \"username\"\n",
    "        self.password_textbox_id = \"password\"\n",
    "        self.login_button_id = \"login\"\n",
    "\n",
    "    def enter_username(self, username):\n",
    "        self.driver.find_element_by_id(self.username_textbox_id).clear()\n",
    "        self.driver.find_element_by_id(self.username_textbox_id).send_keys(username)\n",
    "\n",
    "    def enter_password(self, password):\n",
    "        self.driver.find_element_by_id(self.password_textbox_id).clear()\n",
    "        self.driver.find_element_by_id(self.password_textbox_id).send_keys(password)\n",
    "\n",
    "    def click_login(self):\n",
    "        self.driver.find_element_by_id(self.login_button_id).click()\n"
   ]
  },
  {
   "cell_type": "markdown",
   "metadata": {},
   "source": []
  }
 ],
 "metadata": {
  "language_info": {
   "name": "python"
  },
  "orig_nbformat": 4
 },
 "nbformat": 4,
 "nbformat_minor": 2
}
