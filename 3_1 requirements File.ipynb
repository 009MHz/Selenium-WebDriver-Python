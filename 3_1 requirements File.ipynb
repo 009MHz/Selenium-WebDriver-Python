{
 "cells": [
  {
   "attachments": {},
   "cell_type": "markdown",
   "metadata": {},
   "source": [
    "# Selenium Framework Requirements"
   ]
  },
  {
   "attachments": {},
   "cell_type": "markdown",
   "metadata": {},
   "source": [
    "Since we're using several modules (`selenium, pytest, webdrivers, etc`) and interpreters in the IDE, we can define the module requirements in order to run our script properly even for any other people than the creator itself."
   ]
  },
  {
   "attachments": {},
   "cell_type": "markdown",
   "metadata": {},
   "source": [
    "# Creating requirement Files\n",
    "1. Navigate to project directory\n",
    "2. Create the `.txt` files to add the modules details (`requirements.txt`)\n"
   ]
  }
 ],
 "metadata": {
  "kernelspec": {
   "display_name": "python-selenium-venv",
   "language": "python",
   "name": "python3"
  },
  "language_info": {
   "name": "python",
   "version": "3.10.9 (tags/v3.10.9:1dd9be6, Dec  6 2022, 20:01:21) [MSC v.1934 64 bit (AMD64)]"
  },
  "orig_nbformat": 4,
  "vscode": {
   "interpreter": {
    "hash": "e4a6a40ad7e6db3b09b5ba708de086d97b965e74d527dde469cc86ca5f27edfe"
   }
  }
 },
 "nbformat": 4,
 "nbformat_minor": 2
}
